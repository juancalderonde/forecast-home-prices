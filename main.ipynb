{
 "cells": [
  {
   "metadata": {},
   "cell_type": "markdown",
   "source": "# PRONÓSTICO DEL AVALUO DE VIVIENDAS",
   "id": "b0902c8ca0a7c3e3"
  },
  {
   "metadata": {},
   "cell_type": "markdown",
   "source": [
    "## CAPITULO I. REDUCCIÓN DE DIMENSIONALIDAD\n",
    "\n",
    "Buscando lograr una mayor eficiencia en el proceso de pronóstico se realiza una limpieza preliminar de variables buscando incorporar aquellas variables que pueden llegar a explicar de mejor manera el comportamiento del avaluó de viviendas."
   ],
   "id": "905721d7f67eeb8c"
  },
  {
   "metadata": {},
   "cell_type": "markdown",
   "source": [
    "### i) Variables que  que por criterio de negocio no se consideran dentro del análisis\n",
    "- **variables concentradas** variables como objeto, motivo, tipo_credito se encuentran altamente concentradas en una categoria, por ello buscando reducir la complejidad del modelo se eliminan.\n",
    "\n",
    "- **variables texto** casos como dirección_inmueble y descripciones aportan información valiosa pero en un primer acercamiento no se tendrán en cuenta.\n",
    "\n",
    "\n",
    "Un mayor detalle de las variables se encuentra en el archivo \"Diccionario-variables.xlsx\""
   ],
   "id": "b8762d1ed6de0e02"
  },
  {
   "metadata": {},
   "cell_type": "markdown",
   "source": "",
   "id": "29b709e20cd829c6"
  },
  {
   "metadata": {
    "ExecuteTime": {
     "end_time": "2024-08-13T23:28:19.883476Z",
     "start_time": "2024-08-13T23:28:18.884819Z"
    }
   },
   "cell_type": "code",
   "source": "import pandas as pd",
   "id": "88c25f335223920a",
   "outputs": [],
   "execution_count": 1
  },
  {
   "metadata": {
    "ExecuteTime": {
     "end_time": "2024-08-13T23:28:47.978024Z",
     "start_time": "2024-08-13T23:28:47.574587Z"
    }
   },
   "cell_type": "code",
   "source": "baseAvaluos = pd.read_csv(\"train_precios_vivienda.csv\", sep = \",\", dtype=\"str\")",
   "id": "5f29614f35d00b19",
   "outputs": [],
   "execution_count": 4
  },
  {
   "metadata": {
    "ExecuteTime": {
     "end_time": "2024-08-14T00:26:13.851488Z",
     "start_time": "2024-08-14T00:26:13.846902Z"
    }
   },
   "cell_type": "code",
   "source": "baseAvaluos['fecha_aprobación'].isna().sum()",
   "id": "590403445b0f31a",
   "outputs": [
    {
     "data": {
      "text/plain": [
       "np.int64(6774)"
      ]
     },
     "execution_count": 35,
     "metadata": {},
     "output_type": "execute_result"
    }
   ],
   "execution_count": 35
  },
  {
   "metadata": {},
   "cell_type": "code",
   "outputs": [],
   "execution_count": null,
   "source": "",
   "id": "955fc7f81edd03f6"
  }
 ],
 "metadata": {
  "kernelspec": {
   "display_name": "Python 3",
   "language": "python",
   "name": "python3"
  },
  "language_info": {
   "codemirror_mode": {
    "name": "ipython",
    "version": 2
   },
   "file_extension": ".py",
   "mimetype": "text/x-python",
   "name": "python",
   "nbconvert_exporter": "python",
   "pygments_lexer": "ipython2",
   "version": "2.7.6"
  }
 },
 "nbformat": 4,
 "nbformat_minor": 5
}
