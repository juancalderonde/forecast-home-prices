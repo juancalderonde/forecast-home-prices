{
 "cells": [
  {
   "metadata": {},
   "cell_type": "markdown",
   "source": "# PRONÓSTICO DEL AVALUO DE VIVIENDAS",
   "id": "b0902c8ca0a7c3e3"
  },
  {
   "metadata": {},
   "cell_type": "markdown",
   "source": [
    "## CAPITULO I. Reducción de la dimensionalidad y prealistamiento de datos\n",
    "_____\n",
    "\n",
    "Buscando lograr una mayor eficiencia en el proceso de pronóstico se realiza una limpieza preliminar de variables buscando incorporar aquellas  que pueden llegar a explicar de mejor manera el comportamiento del avaluó de viviendas."
   ],
   "id": "905721d7f67eeb8c"
  },
  {
   "metadata": {},
   "cell_type": "markdown",
   "source": [
    "### i) Variables que  que por criterio de negocio no se consideran dentro del análisis\n",
    "- **Variables concentradas:** como objeto, motivo, tipo_credito se encuentran altamente concentradas en una categoria, por ello buscando reducir la complejidad del modelo se eliminan.\n",
    "\n",
    "- **Variables texto:** casos como dirección_inmueble y descripciones aportan información valiosa pero en un primer acercamiento no se tendrán en cuenta.\n",
    "\n",
    "\n",
    "> Un mayor detalle de las variables se encuentra en el archivo \"Diccionario-variables.xlsx\"\n",
    "\n",
    "\n",
    "### ii) Unificación de variables\n",
    "- **Areas sociales:** el tener porteria, piscina, biciletero se unifican en una sola variable llamada areas_sociales de tal suerte que tener mas de 8 áreas  sociales es excelente, entre 4 y 8 bueno y menor a 4 regular.\n",
    "- **Numero de habitaciones, cocina y otros:** se unifican el numero de espacios del predio\n",
    "- **Area construida:** es la suma de todas las areas de la vivienda\n",
    "- **Estado terminados:** se unifican las variables de estado de acabados de la vivienda usando puntajes de acuerdo a la calidad de los acabados."
   ],
   "id": "b8762d1ed6de0e02"
  },
  {
   "metadata": {},
   "cell_type": "markdown",
   "source": "",
   "id": "29b709e20cd829c6"
  },
  {
   "metadata": {
    "ExecuteTime": {
     "end_time": "2024-08-14T03:49:48.674469Z",
     "start_time": "2024-08-14T03:49:48.672132Z"
    }
   },
   "cell_type": "code",
   "source": [
    "import pandas as pd\n",
    "import numpy as np"
   ],
   "id": "88c25f335223920a",
   "outputs": [],
   "execution_count": 311
  },
  {
   "metadata": {
    "ExecuteTime": {
     "end_time": "2024-08-14T03:49:49.061239Z",
     "start_time": "2024-08-14T03:49:48.683475Z"
    }
   },
   "cell_type": "code",
   "source": [
    "#Cargue de datos ,instanciamiento de parametros generales y algunas funciones genericas\n",
    "baseAvaluos = pd.read_csv(\"train_precios_vivienda.csv\", sep = \",\", dtype=\"str\", encoding=\"utf-8\")\n",
    "variablesElegidas = pd.read_excel(\"Diccionario-variables.xlsx\", sheet_name=\"Parametros\")\n",
    "SELECCION_VARIABLES = list(variablesElegidas['variables_incluye'].drop_duplicates().dropna())\n",
    "baseAvaluos = baseAvaluos[SELECCION_VARIABLES]\n",
    "\n",
    "CONSOLIDA_AREAS_SOCIALES = {\n",
    "    \"nombre_variable\": \"areas_sociales\",\n",
    "    \"variables\": [\"porteria\", \"citofono\", \"bicicletero\", \"piscina\", \"tanque_de_agua\",\n",
    "                  \"club_house\", \"garaje_visitantes\", \"teatrino\", \"sauna\", \n",
    "                  \"vigilancia_privada\"],\n",
    "    \"umbrales\":{\n",
    "        \"e\": 8,\n",
    "        \"b\": 4,\n",
    "        \"r\": 0\n",
    "    }\n",
    "}\n",
    "\n",
    "CONSOLIDA_VARIABLES = {\n",
    "    \"areas_sociales\": {\n",
    "        \"variables\": [\"porteria\", \"citofono\", \"bicicletero\", \"piscina\", \"tanque_de_agua\",\n",
    "                  \"club_house\", \"garaje_visitantes\", \"teatrino\", \"sauna\", \n",
    "                  \"vigilancia_privada\"],\n",
    "        \"criterios\":{\"SI\":1},\n",
    "        \"umbrales\":{\"e\": 8, \"b\": 4, \"r\": 0}    \n",
    "    },\n",
    "    \"estado_terminados\":{\n",
    "        \"variables\" : [\"estado_acabados_pisos\", \"estado_acabados_muros\", \"estado_acabados_techos\", \"estado_acabados_madera\",\n",
    "                       \"estado_acabados_metal\", \"estado_acabados_banos\", \"estado_acabados_cocina\"],\n",
    "        \"criterios\":{\"LUJOSO\":10, \"BUENO\":8, \"NORMAL\":5, \"SENCILLO\":5,\"REGULAR\":2},\n",
    "        \"umbrales\":{\"e\": 60, \"b\": 45, \"r\": 25, \"m\": 0}\n",
    "    },\n",
    "    \"luz_iluminacion\":{\n",
    "        \"variables\" :[\"iluminacion\", \"ventilacion\"],\n",
    "        \"criterios\":{\"BUENO\":10, \"REGULAR\":5},\n",
    "        \"umbrales\":{\"e\": 15, \"b\": 10, \"r\": 0}\n",
    "    }\n",
    "     \n",
    "}\n",
    "SUMA_VARIABLES ={\n",
    "    \"numero_habitaciones\":[\"habitaciones\", \"estar_habitacion\",\"cuarto_servicio\"],\n",
    "    \"numero_banos\":[\"bano_privado\", \"bano_social\", \"bano_servicio\"],\n",
    "    \"otros_espacios\":[\"estudio\", \"balcon\", \"terraza\", \"patio_interior\", \"jardin\"],\n",
    "    \"area_construida\":[\"area_privada\",\"area_garaje\",\"area_deposito\", \"area_construccion\", \"area_otros\", \"area_terreno\", \"area_libre\"],\n",
    "        \n",
    "}\n",
    "VARIABLES_TRANSFORMA_NUMERO = [\"valor_total_avaluo\", \"area_valorada\"]\n",
    "\n",
    "GUIA_USO_COMERCIAL = [\"INDUSTRI\",\"COMERC\"]\n",
    "\n",
    "def transformaNumero(baseOrigen: pd.DataFrame, variablesUsar: list) -> pd.DataFrame:\n",
    "    \"\"\"\n",
    "    Funcion que transforma las variables de un dataframe en numericas siguiendo algunas reglas de reemplazo de caracteres\n",
    "    string que no son numericos\n",
    "     \n",
    "    \"\"\"\n",
    "    baseEspecifica = baseOrigen[variablesUsar].copy().fillna(0)\n",
    "    baseEspecifica[variablesUsar] = baseEspecifica[variablesUsar].replace(r\"[^0-9.,]\", \"\",regex = True) #que no contenga digitos o punto reemplaza por \"\"\n",
    "    baseEspecifica[variablesUsar] = baseEspecifica[variablesUsar].replace(r\"[,]\", \".\",regex = True) #reemplaza comas por puntos\n",
    "    baseEspecifica[variablesUsar] = baseEspecifica[variablesUsar].replace(r\"\\.{2,}\", \".\",regex = True) #dos puntos seguidos reemplaza por uno solo\n",
    "    baseEspecifica[variablesUsar] = baseEspecifica[variablesUsar].replace(\"\",\"0\")\n",
    "    baseEspecifica[variablesUsar] = baseEspecifica[variablesUsar].replace(\".\",\"0\")\n",
    "    baseEspecifica[variablesUsar] = baseEspecifica[variablesUsar].replace(\".0.0\",\"0\")\n",
    "    baseEspecifica[variablesUsar] = baseEspecifica[variablesUsar].replace(\".10.\",\"0\")\n",
    "    baseEspecifica[variablesUsar] = baseEspecifica[variablesUsar].replace(\".5.\",\"0\")\n",
    "    baseEspecifica[variablesUsar] = baseEspecifica[variablesUsar].replace(\".2010.\",\"0\")\n",
    "    baseEspecifica[variablesUsar] = baseEspecifica[variablesUsar].astype(float)\n",
    "    \n",
    "    return baseEspecifica"
   ],
   "id": "5f29614f35d00b19",
   "outputs": [],
   "execution_count": 312
  },
  {
   "metadata": {
    "ExecuteTime": {
     "end_time": "2024-08-14T03:49:49.204004Z",
     "start_time": "2024-08-14T03:49:49.062245Z"
    }
   },
   "cell_type": "code",
   "source": [
    "def construyeVariablesCombinadas(baseOrigen: pd.DataFrame, variablesCombinadas:dict) -> pd.DataFrame:\n",
    "    baseCalculo = baseOrigen.copy()\n",
    "    #Itera sobre las variables nuevas a crear\n",
    "    for nuevaVar in variablesCombinadas.keys():\n",
    "        variablesCombinar = variablesCombinadas[nuevaVar][\"variables\"]\n",
    "        criteriosCorte = variablesCombinadas[nuevaVar][\"criterios\"]\n",
    "        umbrales = variablesCombinadas[nuevaVar][\"umbrales\"]\n",
    "        baseVariablesCombinar = baseCalculo[variablesCombinar].copy()\n",
    "        #itera sobre cada variable que compone la variable combinada\n",
    "        for variable in variablesCombinar:\n",
    "            baseVariablesCombinar[variable + \"_tmp\"] = 0\n",
    "            #asigna un puntaje dependiendo del criterio\n",
    "            for criterio in criteriosCorte.keys():\n",
    "                baseVariablesCombinar[variable + \"_tmp\"] = np.where(\n",
    "                    baseVariablesCombinar[variable].str.upper() == criterio,\n",
    "                    criteriosCorte[criterio],\n",
    "                    baseVariablesCombinar[variable + \"_tmp\"]\n",
    "                )\n",
    "            baseVariablesCombinar[variable] = baseVariablesCombinar[variable + \"_tmp\"]\n",
    "        \n",
    "        #realiza la suma de los puntajes asignados a cada variable\n",
    "        baseVariablesCombinar[nuevaVar + \"_numero\"] = baseVariablesCombinar[variablesCombinar].sum(axis=1)\n",
    "        \n",
    "        #asigna un rango dependiendo de la suma de los puntajes\n",
    "        baseVariablesCombinar[nuevaVar] = \"\"\n",
    "        for umbral in umbrales:\n",
    "            baseVariablesCombinar[nuevaVar] = np.where(\n",
    "                ((baseVariablesCombinar[nuevaVar + \"_numero\"] >= umbrales[umbral]) &\n",
    "                 (baseVariablesCombinar[nuevaVar] == \"\")), \n",
    "                umbral, \n",
    "                baseVariablesCombinar[nuevaVar]\n",
    "            )\n",
    "        #elimina las variables que se combinaron\n",
    "        baseCalculo.drop(variablesCombinar, axis=1, inplace=True)\n",
    "        baseCalculo = pd.concat([baseCalculo, baseVariablesCombinar[nuevaVar]], axis=1)\n",
    "        \n",
    "        print(f\"Variable {nuevaVar} creada\")\n",
    "    return baseCalculo\n",
    "      \n",
    "baseAvaluos = construyeVariablesCombinadas(baseOrigen = baseAvaluos, variablesCombinadas = CONSOLIDA_VARIABLES)"
   ],
   "id": "7bdcd3018978056a",
   "outputs": [
    {
     "name": "stdout",
     "output_type": "stream",
     "text": [
      "Variable areas_sociales creada\n",
      "Variable estado_terminados creada\n",
      "Variable luz_iluminacion creada\n"
     ]
    }
   ],
   "execution_count": 313
  },
  {
   "metadata": {
    "ExecuteTime": {
     "end_time": "2024-08-14T03:49:49.571318Z",
     "start_time": "2024-08-14T03:49:49.205014Z"
    }
   },
   "cell_type": "code",
   "source": [
    "#construye variables que son el resultado de sumar otras\n",
    "def construyeVariablesSuma(baseOrigen: pd.DataFrame, variablesSuma:dict) -> pd.DataFrame:\n",
    "    baseCalculo = baseOrigen.copy()\n",
    "    for nuevaVar in variablesSuma.keys():\n",
    "        variablesUsar = variablesSuma[nuevaVar]\n",
    "        \n",
    "        baseEspecifica = transformaNumero(baseOrigen = baseCalculo, variablesUsar = variablesUsar)\n",
    "        baseEspecifica[nuevaVar] = baseEspecifica[variablesUsar].sum(axis=1)\n",
    "        \n",
    "        baseOrigen = pd.concat([baseOrigen, baseEspecifica[nuevaVar]], axis=1)\n",
    "        baseOrigen.drop(variablesUsar, axis=1, inplace=True)\n",
    "        print(f\"Variable {nuevaVar} creada\")\n",
    "    return baseOrigen\n",
    "\n",
    "baseAvaluos = construyeVariablesSuma(baseOrigen = baseAvaluos, variablesSuma = SUMA_VARIABLES)"
   ],
   "id": "590403445b0f31a",
   "outputs": [
    {
     "name": "stdout",
     "output_type": "stream",
     "text": [
      "Variable numero_habitaciones creada\n",
      "Variable numero_banos creada\n",
      "Variable otros_espacios creada\n",
      "Variable area_construida creada\n"
     ]
    }
   ],
   "execution_count": 314
  },
  {
   "metadata": {
    "ExecuteTime": {
     "end_time": "2024-08-14T03:49:49.620977Z",
     "start_time": "2024-08-14T03:49:49.572327Z"
    }
   },
   "cell_type": "code",
   "source": [
    "#transforma algunas variables a numericas\n",
    "def transformaNumericas(baseOrigen: pd.DataFrame, variablesUsar: list) -> pd.DataFrame:\n",
    "    baseEspecifica = transformaNumero(baseOrigen = baseOrigen, variablesUsar = variablesUsar)\n",
    "    baseEspecifica[variablesUsar] = baseEspecifica[variablesUsar].astype(float)\n",
    "    \n",
    "    for variable in variablesUsar:\n",
    "        baseOrigen[variable] = baseEspecifica[variable]\n",
    "    print(f\"Variables {variablesUsar} transformadas a numericas\")\n",
    "    return baseOrigen\n",
    "\n",
    "baseAvaluos = transformaNumericas(baseOrigen = baseAvaluos, variablesUsar = VARIABLES_TRANSFORMA_NUMERO)"
   ],
   "id": "513adbbbc53c6920",
   "outputs": [
    {
     "name": "stdout",
     "output_type": "stream",
     "text": [
      "Variables ['valor_total_avaluo', 'area_valorada'] transformadas a numericas\n"
     ]
    }
   ],
   "execution_count": 315
  },
  {
   "metadata": {
    "ExecuteTime": {
     "end_time": "2024-08-14T03:49:49.624022Z",
     "start_time": "2024-08-14T03:49:49.620977Z"
    }
   },
   "cell_type": "code",
   "source": [
    "#crea variable para determinar si es una vivienda residencial o comercial\n",
    "def determinaTipoVivienda(baseOrigen: pd.DataFrame) -> pd.DataFrame:\n",
    "    baseCalculo = baseOrigen.copy()\n",
    "    variablesNumericas = [\"local\", \"oficina\", \"bodega\"]\n",
    "    baseCalculo[\"suma_comercial\"] = baseCalculo[variablesNumericas].sum(axis=1)\n",
    "    baseCalculo[\"tipo_uso_inmueble\"] = \"\"\n",
    "    baseCalculo[\"tipo_uso_inmueble\"] = np.where(\n",
    "        baseCalculo[\"suma_comercial\"] > 0,\n",
    "        \"C\",\n",
    "        \"\"\n",
    "    )\n",
    "    \n",
    "    baseCalculo[\"tipo_vivienda\"] = np.where(\n",
    "        baseCalculo[\"tipo_inmueble\"].str.upper() == \"RESIDENCIAL\",\n",
    "        \"R\",\n",
    "        \"C\"\n",
    "    )\n",
    "    baseCalculo.drop(\"tipo_inmueble\", axis=1, inplace=True)\n",
    "    print(\"Variable tipo_vivienda creada\")\n",
    "    return baseCalculo"
   ],
   "id": "bac7a283324b35d7",
   "outputs": [],
   "execution_count": 316
  },
  {
   "metadata": {
    "ExecuteTime": {
     "end_time": "2024-08-14T03:59:40.228283Z",
     "start_time": "2024-08-14T03:59:40.219446Z"
    }
   },
   "cell_type": "code",
   "source": "baseAvaluos[\"area_actividad\"].unique()",
   "id": "dd0697ae104975d8",
   "outputs": [
    {
     "data": {
      "text/plain": [
       "array(['0', 'Vivienda', 'RESIDENCIAL', 'Residencial', 'residencial',\n",
       "       'Mixta', 'VIVIENDA', 'Residencial neta', 'mixta', 'MULTIPLE',\n",
       "       '47.8', 'Residencial Predominante', 'Residencial y comercial',\n",
       "       'RP', '60,60', '48', '91', 'MIXTA', 'ÁREA RESIDENCIAL TURISTI',\n",
       "       'Residencial 1', 'Rsidencial', 'Residencial y turistica',\n",
       "       'Reisdencial', 'Residencia', 'Habitacional', 'ar-4',\n",
       "       'Plan Zonal rural', '72', '56.9', 'Residencial - TurÃ\\xadstico',\n",
       "       'Rediencial', 'R-1 Control PaisajÃ\\xadstico', '3,3', '80', '98.49',\n",
       "       'R-2', 'residencia', '59.76', '35,01', '67.29', 'BAJA MIXTURA',\n",
       "       'vVvienda', '103', 'vivienda', '10', 'Residual', '38.04',\n",
       "       'RESIDENCIA', '65.33', '1', '84.75', 'PR-1B', 'Residencial Neto',\n",
       "       'R-1', 'RESIDENCIL', 'MIXTO', 'Residencial y Comercial',\n",
       "       'Residencial predominante', '51.56', 'RESDENCIAL', '57.60', '66.8',\n",
       "       'Reidencial', 'Exterior', 'RESIDENCIAL.', 'Residencial Neta',\n",
       "       'Residencial Tipo C', '92', 'MIXTO 2',\n",
       "       'ConsolidaciÃ³n UrbanÃ\\xadstica', '0,48', '4,06',\n",
       "       '75.959999999999994', 'Zona Suburbana', 'Residencial.', '92.39',\n",
       "       'Residencial 2', '60,74', 'Residencial predominante.', '4',\n",
       "       '58,70', 'RESIDENCIAL CON COMERCIO', 'RESIDENCIAL PREDOMINANTE',\n",
       "       'Área de actividad residen', '51.54', 'Mixto', 'Rural', '68.86',\n",
       "       '71.349999999999994', 'RESIDENCIAL Y SERVICIOS', 'Residenial',\n",
       "       'residdencial', 'Residencial Tipo B', '67', 'Comercio y servicios',\n",
       "       'Mixta.', 'PR 2', 'Residencial y comerial', 'Mixto 2', 'Urbano',\n",
       "       'reisdencial', '214.09', '50.2', '62.49m2', '65.819999999999993',\n",
       "       'Residencal', 'Residencial campestre', 'RESIDENCIAL TIPO B',\n",
       "       'Residecial', 'Turismo - Villas', 'Sector de TecnologÃ\\xada',\n",
       "       '3,9', 'RESINDENCIAL', '0,94', 'VIVIVIENDA', '77.86',\n",
       "       '75.239999999999995', 'Redes. MÃºltiple', '601.1', '84,45', '33',\n",
       "       'Resiedencial', 'RESIDENCIAL 2', 'RESIDNCIAL', 'comercial',\n",
       "       '86.21', 'Vivienda Unifamiliares', '42.17',\n",
       "       'Residencial y servicios', 'HABITACIONAL', '138.96', 'PRIVADA',\n",
       "       'VIVIENDA MULTIFAMILIAR', 'RESIDENCIAL - COMERCIO', 'Residencail',\n",
       "       'PR-1 RESIDENCIAL', '80.23', '97.8', 'INDUSTRIAL', '50',\n",
       "       'Resiencial', 'MIXTO RESID. Y TURISTICO', 'RESIDECIAL (R2)',\n",
       "       'URBANA - HABITACIONAL', 'AGROPECUARIA', 'ResidencIal', 'Urbana',\n",
       "       'REIDENCIAL', 'C-2', '60.75', 'REDSIDENCIAL', '83', 'ar-3', 'R-3',\n",
       "       'USO MÚLTIPLE CM3', '22.39', 'RRESIDENCIAL', 'RESIDEC', 'PR - 1B',\n",
       "       'Resdencial y comercial', 'residencial predominante', '2485', 'RN',\n",
       "       '44.48', 'AR-4', 'AR-3', 'RESIDENCIAL Y COMERCIAL',\n",
       "       'RESIDENCIAL Y HOTELERO', 'Residencial y comercial.', '83,5',\n",
       "       '132.49250000000001', 'MIXTA: RESIDENCIAL  CCIAL', '28.2',\n",
       "       'R-2 COMERCIO Y SERVICIO L', '900', 'Industrial', '17', '82',\n",
       "       'Residencial Tipo A', 'Suburbano', '61',\n",
       "       'Corredor Suburbano Caimo', '64.02', 'urbana', 'RESDIENCIAL',\n",
       "       '0,632', '0,56', '114.92', '84', '48,56', '161', '2404', '185.02',\n",
       "       'URBANA', '1503', '44,13', '49', '180.2', '57.67',\n",
       "       'Residencial, militar', '125.2', '53.56', '198', '34', '0,34',\n",
       "       'RESIDENSIAL', 'residencial.', 'Residencial Tipo D',\n",
       "       'Redesarrollo Res Cotidian', '61.79', 'Resarrollo mÃºltiple', '6',\n",
       "       '78.92', '5', 'Resindencial', 'Conjunto residencial',\n",
       "       'MIXTA: RES-COM', '6024', '79.900000000000006', '137,68',\n",
       "       'RESIDENCIAL Y COMERCIO', 'Residencial Cotidiano', '674.90',\n",
       "       '63.5', 'Netamente Residencial', '76.849999999999994', '56.69',\n",
       "       '50,5', '69.92', 'COMERCIAL Y DE SERVICIOS', '89.28', '96.12',\n",
       "       '56.81', '843', '59', 'ExpansiÃ³n urbanÃ\\xadstica',\n",
       "       'Residencial e institucion', 'PR-2', '79.8', '68', '92,66',\n",
       "       'reidencial', 'USO MÃšLTIPLE CM3', 'RESIDENCIOAL', '98.21',\n",
       "       '102.6', '135.66999999999999', 'Urbana Integral', '83.88', '66.76',\n",
       "       '50.53', '55.31', '49.28', 'VIVENDA', '44,29',\n",
       "       'Ã\\x81rea Urbana integral', '57.11', '12', '1,72',\n",
       "       'RESIDENCIAL Y TURISTICO', '116', '48.25', '91.52',\n",
       "       'Actividad urbana AV PANAM', 'Residencial con actividad',\n",
       "       '65.099999999999994', '0,405', '91.9', 'VIVIENDA CAMPESTRE',\n",
       "       '121.98', 'Residencial - comercial', '71,48 m2', '70.16', '0,071',\n",
       "       '40', '50.81', 'Residencial y  comercial', 'Resdiencial', '8',\n",
       "       '76,78', 'NO SUMISTRADA', '101.94', '37', '0,01', '54.7', 'Si',\n",
       "       '0,41', '62.23', 'residencial con comercio', '107', '164', '50,02',\n",
       "       'REsidencial', '80.06', '-', 'Residiencial', 'privada', 'CENTRAL',\n",
       "       'resdencial', '70.21', 'Residencial tipo D', 'MIxta',\n",
       "       'ZONA TECNOLOGIA', 'Comercial y de servicios', 'COMERCIAL',\n",
       "       'Residenical', 'RESIDENCIAL - TURISMO', '85.79', '157', '2938',\n",
       "       '60.43', 'AAR-T2', '55', 'Area de Baja Mixtura', '176.93',\n",
       "       'Interior', 'RESIDENCIA NETAL', '4,78', '90.30', '0,206',\n",
       "       'ÁREA RESIDENCIAL TURÍSTIC', 'reidiencial',\n",
       "       'Espacio Publico Proyectad', '47.83', 'RESIDENCIAL TIPO D',\n",
       "       '181.20', '10,06', 'Suburbana', '60', 'RESIDENCIALQ',\n",
       "       'Mixto Tipo 1', 'RESID. TURISTICA', 'AR-2', 'RESIDENCIAL ZR2',\n",
       "       '62.14', 'Comercial 2', '135.80000000000001', 'resiencial', '42.6',\n",
       "       'RESIDENCIAL E INDUSTRIAL', '8115', '38.75', '33.96', '76',\n",
       "       'Comercio 2', 'CORREDOR PRADOMAR', '65.73', 'Residencial 3',\n",
       "       'REDISENCIAL', 'Baja Mixtura', '1428', '64', '78.95', '1,35',\n",
       "       'Residencial y comerci', '233', 'rediencial', '56.6',\n",
       "       'resiodedencial', 'F-11 Redesarrollo Residen', '89.6',\n",
       "       'Área residencial AR3', '96', 'Comercial', '55.63',\n",
       "       'Residencial y comercio', 'urbano', '2777', 'Reridencial', '65.36',\n",
       "       'AREA DE ACTIVIDAD CENTRAL', '63.65', '243', '81.63', '36.83',\n",
       "       '93.43', '36', '56.01', '7748', '96.54', '33722',\n",
       "       'Connsolidacion.', '61.89', 'residencial unifamiliar', 'PR - 2',\n",
       "       'Comercio', 'Residencial Rural', '81,55', 'M-1', 'RESIDECIAL',\n",
       "       '70.739999999999995', 'Residencial R-1',\n",
       "       'Area de Actividad Central', 'Residencial R-3', '66.16',\n",
       "       '455603.16', 'RESIENCIAL', 'MIXTA. RESI. - COMERCIAL', '56.93',\n",
       "       '0.5', '61,38', 'Residencial con comercio', '114.42',\n",
       "       'Redesarrollo Residencial', '62', 'Residencial y otros', '8396.74',\n",
       "       'residencial ZR4', '58.33', '0,821', '75.3', 'Multiple',\n",
       "       'Residencial VIS', 'Resdencial', '30', '107.12', '51.3', '136.86',\n",
       "       'Vivir¡enda', '85.98', 'COEMERCIAL', nan, '0,908', '0,1', '42.51',\n",
       "       'Residncial', '20006', 'ResidencIal R-1', '7.14',\n",
       "       'Corredor suburbano', '43,39', '46.41', 'Ressidencial', '99',\n",
       "       '75.790000000000006', '88', '50.43', '53.69', '2',\n",
       "       'RESIDENCIAL NETA', '1,47', '1,73', 'Residencial - Comercial',\n",
       "       'Resedencial', '143.03', 'redencial', '106.57', '71.8',\n",
       "       'Sector TecnolÃ³gico', 'C-3', 'Res', '70,44', '1,4',\n",
       "       'Área urbana integral', '0,075', 'CAE-1', 'CAE - 2', 'Ar-3', '14',\n",
       "       '7', 'Residencial y Comercial.', '67.88', '396', '75',\n",
       "       'Suburbano-uso mixto', 'Resideicial', 'Urbana integral', '73',\n",
       "       '56,84', '70.44', '73,73', '64,97', '87', '2480',\n",
       "       'Corredor Suburbano', 'Resicencial', 'Ã\\x81rea Urbana Integral',\n",
       "       'CAE 2', '82.49', 'PR 1', 'AAR-T1', 'Hotelera', '62.44',\n",
       "       'RESIENDENCIAL', 'ZONA VERDE, ANDEN Y VEHI', '327.75', '56',\n",
       "       '48305', '83.74', '54.11', '68.06', 'PR-2,  CAE 2',\n",
       "       'Area de actividad mixta', '53.58', '65.2', 'Central',\n",
       "       'Residencial, educativo', '0,976', 'reisidencial', '98', '65.06',\n",
       "       'Resudencial', 'ResidenciaL', '220',\n",
       "       'Ã\\x81rea de expansiÃ³n urbana', '55.92', '153.28', '73.68',\n",
       "       'F. 5 Redesarrrollo', '96.2', '54.84', 'Residencial, comercial',\n",
       "       'Residencial-Comercial', 'Zona Múltiple central', 'RESISDENCIAL',\n",
       "       '2,5'], dtype=object)"
      ]
     },
     "execution_count": 318,
     "metadata": {},
     "output_type": "execute_result"
    }
   ],
   "execution_count": 318
  }
 ],
 "metadata": {
  "kernelspec": {
   "display_name": "Python 3",
   "language": "python",
   "name": "python3"
  },
  "language_info": {
   "codemirror_mode": {
    "name": "ipython",
    "version": 2
   },
   "file_extension": ".py",
   "mimetype": "text/x-python",
   "name": "python",
   "nbconvert_exporter": "python",
   "pygments_lexer": "ipython2",
   "version": "2.7.6"
  }
 },
 "nbformat": 4,
 "nbformat_minor": 5
}
